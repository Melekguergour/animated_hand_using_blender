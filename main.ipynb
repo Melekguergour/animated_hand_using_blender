{
 "cells": [
  {
   "cell_type": "code",
   "execution_count": null,
   "id": "545b62d0-5d0f-4254-a5fd-522f32429db4",
   "metadata": {},
   "outputs": [],
   "source": [
    "import bpy\n",
    "\n",
    "# Function to play the animation from the first frame\n",
    "def play_animation():\n",
    "    bpy.context.scene.frame_set(0)  # Set frame to the beginning\n",
    "    bpy.ops.screen.animation_play()  # Start playing the animation\n",
    "    print(\"🚀 Animation launched!\")\n",
    "\n",
    "# Operator class to detect key press\n",
    "class KeyPressOperator(bpy.types.Operator):\n",
    "    bl_idname = \"wm.key_press_operator\"\n",
    "    bl_label = \"Detect Key Press\"\n",
    "    bl_description = \"Press 'B' to launch the animation\"\n",
    "\n",
    "    # This method runs in a loop to detect key events\n",
    "    def modal(self, context, event):\n",
    "        if event.type == 'B' and event.value == 'PRESS':  # If 'B' key is pressed\n",
    "            play_animation()\n",
    "            return {'RUNNING_MODAL'}\n",
    "        elif event.type == 'ESC':  # Cancel with ESC key\n",
    "            return {'CANCELLED'}\n",
    "        return {'PASS_THROUGH'}\n",
    "\n",
    "    # This method is called to start the modal operator\n",
    "    def invoke(self, context, event):\n",
    "        context.window_manager.modal_handler_add(self)\n",
    "        return {'RUNNING_MODAL'}\n",
    "\n",
    "# Register the operator\n",
    "def register():\n",
    "    bpy.utils.register_class(KeyPressOperator)\n",
    "    bpy.ops.wm.key_press_operator('INVOKE_DEFAULT')  # Start listening for key presses\n",
    "\n",
    "# Unregister the operator\n",
    "def unregister():\n",
    "    bpy.utils.unregister_class(KeyPressOperator)\n",
    "\n",
    "# Execute the script\n",
    "if __name__ == \"__main__\":\n",
    "    register()\n"
   ]
  }
 ],
 "metadata": {
  "kernelspec": {
   "display_name": "Python 3 (ipykernel)",
   "language": "python",
   "name": "python3"
  },
  "language_info": {
   "codemirror_mode": {
    "name": "ipython",
    "version": 3
   },
   "file_extension": ".py",
   "mimetype": "text/x-python",
   "name": "python",
   "nbconvert_exporter": "python",
   "pygments_lexer": "ipython3",
   "version": "3.12.7"
  }
 },
 "nbformat": 4,
 "nbformat_minor": 5
}
